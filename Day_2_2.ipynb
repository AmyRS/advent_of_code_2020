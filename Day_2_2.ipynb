{
 "cells": [
  {
   "cell_type": "code",
   "execution_count": 4,
   "metadata": {},
   "outputs": [],
   "source": [
    "import csv\n",
    "import pandas as pd\n",
    "import numpy as np\n",
    "from itertools import combinations\n",
    "import doctest\n",
    "from collections import Counter\n",
    "import re"
   ]
  },
  {
   "cell_type": "markdown",
   "metadata": {},
   "source": [
    "#### Test"
   ]
  },
  {
   "cell_type": "code",
   "execution_count": 46,
   "metadata": {},
   "outputs": [],
   "source": [
    "test_input = [\"1-3 a: abcde\", \"1-3 b: cdefg\",\"2-9 c: ccccccccc\"]"
   ]
  },
  {
   "cell_type": "code",
   "execution_count": 166,
   "metadata": {},
   "outputs": [],
   "source": [
    "def valid_passwords(given_list):\n",
    "    '''\n",
    "    This is a test:\n",
    "    >>> valid_passwords(test_input)\n",
    "    1\n",
    "    '''\n",
    "    good_passwords = []\n",
    "    bad_passwords = []\n",
    "\n",
    "    for item in given_list:\n",
    "        min_value = ((re.findall(\"(\\d*)(?=-)\", item))[0])\n",
    "        min_rule = (int(min_value)-1)\n",
    "        max_value = ((re.findall(\"(?:-)(\\d*)\", item))[0])\n",
    "        max_rule = (int(max_value)-1)\n",
    "        letter_rule = ((re.findall(\"[a-z](?=:)\", item))[0])\n",
    "        password = ((re.findall(\"(?<=:\\s)\\S*\", item))[0])\n",
    "        \n",
    "        if password[min_rule] == letter_rule and password[max_rule] == letter_rule:\n",
    "            bad_passwords.append(password)\n",
    "        elif password[min_rule]!= letter_rule and password[max_rule] != letter_rule:\n",
    "            bad_passwords.append(password)\n",
    "        elif password[min_rule] == letter_rule or password[max_rule] == letter_rule:\n",
    "            good_passwords.append(password)       \n",
    "                \n",
    "    return(len(good_passwords))"
   ]
  },
  {
   "cell_type": "code",
   "execution_count": 167,
   "metadata": {},
   "outputs": [
    {
     "data": {
      "text/plain": [
       "1"
      ]
     },
     "execution_count": 167,
     "metadata": {},
     "output_type": "execute_result"
    }
   ],
   "source": [
    "valid_passwords(test_input)"
   ]
  },
  {
   "cell_type": "code",
   "execution_count": 168,
   "metadata": {},
   "outputs": [
    {
     "name": "stdout",
     "output_type": "stream",
     "text": [
      "Trying:\n",
      "    valid_passwords(test_input)\n",
      "Expecting:\n",
      "    1\n",
      "ok\n",
      "1 items had no tests:\n",
      "    __main__\n",
      "1 items passed all tests:\n",
      "   1 tests in __main__.valid_passwords\n",
      "1 tests in 2 items.\n",
      "1 passed and 0 failed.\n",
      "Test passed.\n"
     ]
    },
    {
     "data": {
      "text/plain": [
       "TestResults(failed=0, attempted=1)"
      ]
     },
     "execution_count": 168,
     "metadata": {},
     "output_type": "execute_result"
    }
   ],
   "source": [
    "doctest.testmod(verbose=True)"
   ]
  },
  {
   "cell_type": "markdown",
   "metadata": {},
   "source": [
    "#### Actual"
   ]
  },
  {
   "cell_type": "code",
   "execution_count": 169,
   "metadata": {},
   "outputs": [],
   "source": [
    "# pi = puzzle input\n",
    "password_input = pd.read_csv('day_2_1_input.csv', header = None)"
   ]
  },
  {
   "cell_type": "code",
   "execution_count": 170,
   "metadata": {
    "scrolled": true
   },
   "outputs": [],
   "source": [
    "passwords = password_input.values.tolist()"
   ]
  },
  {
   "cell_type": "code",
   "execution_count": 171,
   "metadata": {},
   "outputs": [],
   "source": [
    "password_list = [item for elem in passwords for item in elem]"
   ]
  },
  {
   "cell_type": "code",
   "execution_count": 172,
   "metadata": {},
   "outputs": [
    {
     "data": {
      "text/plain": [
       "346"
      ]
     },
     "execution_count": 172,
     "metadata": {},
     "output_type": "execute_result"
    }
   ],
   "source": [
    "valid_passwords(password_list)"
   ]
  }
 ],
 "metadata": {
  "kernelspec": {
   "display_name": "Python 3",
   "language": "python",
   "name": "python3"
  },
  "language_info": {
   "codemirror_mode": {
    "name": "ipython",
    "version": 3
   },
   "file_extension": ".py",
   "mimetype": "text/x-python",
   "name": "python",
   "nbconvert_exporter": "python",
   "pygments_lexer": "ipython3",
   "version": "3.6.7"
  }
 },
 "nbformat": 4,
 "nbformat_minor": 2
}
