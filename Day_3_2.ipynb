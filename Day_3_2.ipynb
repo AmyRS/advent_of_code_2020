{
 "cells": [
  {
   "cell_type": "code",
   "execution_count": 7,
   "metadata": {},
   "outputs": [],
   "source": [
    "import csv\n",
    "import pandas as pd\n",
    "import numpy as np\n",
    "import doctest"
   ]
  },
  {
   "cell_type": "markdown",
   "metadata": {},
   "source": [
    "#### Test"
   ]
  },
  {
   "cell_type": "code",
   "execution_count": 61,
   "metadata": {},
   "outputs": [],
   "source": [
    "test_input = []\n",
    "with open(r\"day_3_1_test.txt\", \"r\") as file:\n",
    "    for line in file:\n",
    "        line = line.replace(\"\\n\", \"\")\n",
    "        test_input.append(line)"
   ]
  },
  {
   "cell_type": "code",
   "execution_count": 62,
   "metadata": {},
   "outputs": [
    {
     "data": {
      "text/plain": [
       "['..##.......',\n",
       " '#...#...#..',\n",
       " '.#....#..#.',\n",
       " '..#.#...#.#',\n",
       " '.#...##..#.',\n",
       " '..#.##.....',\n",
       " '.#.#.#....#',\n",
       " '.#........#',\n",
       " '#.##...#...',\n",
       " '#...##....#',\n",
       " '.#..#...#.#']"
      ]
     },
     "execution_count": 62,
     "metadata": {},
     "output_type": "execute_result"
    }
   ],
   "source": [
    "test_input"
   ]
  },
  {
   "cell_type": "code",
   "execution_count": 131,
   "metadata": {},
   "outputs": [],
   "source": [
    "def trees_hit(given_list, right_col, down_row):\n",
    "    '''\n",
    "    This is a test:\n",
    "    >>> trees_hit(test_input)\n",
    "    7\n",
    "    '''\n",
    "    row = down_row\n",
    "    col = right_col\n",
    "    tree_count = 0\n",
    "    \n",
    "    while (down_row < (len(given_list))):\n",
    "        stop = given_list[down_row][right_col]        \n",
    "        if stop == '#':\n",
    "            tree_count +=1\n",
    "            \n",
    "        # Next row +1, column +3\n",
    "        down_row = down_row + row\n",
    "        right_col = right_col + col\n",
    "        if right_col >= len(given_list[0]):\n",
    "            right_col = right_col - len(given_list[0])\n",
    "    \n",
    "    return tree_count"
   ]
  },
  {
   "cell_type": "code",
   "execution_count": 132,
   "metadata": {},
   "outputs": [
    {
     "data": {
      "text/plain": [
       "254"
      ]
     },
     "execution_count": 132,
     "metadata": {},
     "output_type": "execute_result"
    }
   ],
   "source": [
    "trees_hit(tree_input, 3, 1)"
   ]
  },
  {
   "cell_type": "markdown",
   "metadata": {},
   "source": [
    "#### Actual"
   ]
  },
  {
   "cell_type": "code",
   "execution_count": 109,
   "metadata": {},
   "outputs": [],
   "source": [
    "# pi = puzzle input\n",
    "tree_input = []\n",
    "with open(r\"day_3_1_input.txt\", \"r\") as file:\n",
    "    for line in file:\n",
    "        line = line.replace(\"\\n\", \"\")\n",
    "        tree_input.append(line)"
   ]
  },
  {
   "cell_type": "code",
   "execution_count": 135,
   "metadata": {},
   "outputs": [
    {
     "data": {
      "text/plain": [
       "1666768320"
      ]
     },
     "execution_count": 135,
     "metadata": {},
     "output_type": "execute_result"
    }
   ],
   "source": [
    "route1 = trees_hit(tree_input, 1, 1)\n",
    "route2 = trees_hit(tree_input, 3, 1)\n",
    "route3 = trees_hit(tree_input, 5, 1)\n",
    "route4 = trees_hit(tree_input, 7, 1)\n",
    "route5 = trees_hit(tree_input, 1, 2)\n",
    "result = route1 * route2 * route3 * route4 * route5\n",
    "result"
   ]
  }
 ],
 "metadata": {
  "kernelspec": {
   "display_name": "Python 3",
   "language": "python",
   "name": "python3"
  },
  "language_info": {
   "codemirror_mode": {
    "name": "ipython",
    "version": 3
   },
   "file_extension": ".py",
   "mimetype": "text/x-python",
   "name": "python",
   "nbconvert_exporter": "python",
   "pygments_lexer": "ipython3",
   "version": "3.6.7"
  }
 },
 "nbformat": 4,
 "nbformat_minor": 2
}
