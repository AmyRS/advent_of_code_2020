{
 "cells": [
  {
   "cell_type": "markdown",
   "metadata": {},
   "source": [
    "Overview\n",
    "* Pull in puzzle input\n",
    "* Find the seat with highest ID on the boarding pass\n",
    "* Seat ID = row * 8 + column"
   ]
  },
  {
   "cell_type": "code",
   "execution_count": 54,
   "metadata": {},
   "outputs": [],
   "source": [
    "import csv\n",
    "import pandas as pd\n",
    "import numpy as np\n",
    "import doctest"
   ]
  },
  {
   "cell_type": "markdown",
   "metadata": {},
   "source": [
    "#### Test"
   ]
  },
  {
   "cell_type": "code",
   "execution_count": 55,
   "metadata": {},
   "outputs": [],
   "source": [
    "test_input = []\n",
    "with open(r\"day_5_1_test.txt\", \"r\") as file:\n",
    "    for line in file:\n",
    "        line = line.replace(\"\\n\", \"\")\n",
    "        test_input.append(line)"
   ]
  },
  {
   "cell_type": "code",
   "execution_count": 33,
   "metadata": {},
   "outputs": [],
   "source": [
    "def missing_boarding_pass(given_list):\n",
    "    '''\n",
    "    This is a test:\n",
    "    >>> highest_boarding_pass(test_input)\n",
    "    820\n",
    "    '''\n",
    "    # sort list\n",
    "    \n",
    "    # take top ones that match first seven\n",
    "    \n",
    "    # reverse sort\n",
    "    \n",
    "    # calc ID for first number\n",
    "    given_list.sort()\n",
    "    given_list\n",
    "\n",
    "    # Loop through all and make a list of ids\n",
    "    ids = []\n",
    "    \n",
    "    for boarding in given_list:\n",
    "        # Find Row and Col\n",
    "        rows = list(range(0, 128))\n",
    "        for x in boarding[:6]:\n",
    "            if x == 'B':\n",
    "                rows = rows[len(rows)//2:]\n",
    "            else:\n",
    "                rows = rows[:len(rows)//2]        \n",
    "        if boarding[6:7] == \"B\":\n",
    "            row = rows[1]\n",
    "        else:\n",
    "            row = rows[0]\n",
    "        seat_col = boarding[7:]\n",
    "        columns = list(range(0, 8))\n",
    "        for x in seat_col:\n",
    "            if x == 'R':\n",
    "                columns = columns[len(columns)//2:]\n",
    "            else:\n",
    "                columns = columns[:len(columns)//2]   \n",
    "        col = columns[0]\n",
    "\n",
    "        answer = row * 8 + col\n",
    "        ids.append(answer)\n",
    "    ids.sort()\n",
    "    \n",
    "    missing = sorted(set(range(ids[0], ids[-1])) - set(ids)) \n",
    " \n",
    "    return missing"
   ]
  },
  {
   "cell_type": "markdown",
   "metadata": {},
   "source": [
    "#### Actual"
   ]
  },
  {
   "cell_type": "code",
   "execution_count": 34,
   "metadata": {},
   "outputs": [],
   "source": [
    "# pi = puzzle input\n",
    "passes_input = []\n",
    "with open(r\"day_5_1_input.txt\", \"r\") as file:\n",
    "    for line in file:\n",
    "        line = line.replace(\"\\n\", \"\")\n",
    "        passes_input.append(line)"
   ]
  },
  {
   "cell_type": "code",
   "execution_count": 35,
   "metadata": {},
   "outputs": [
    {
     "data": {
      "text/plain": [
       "[705]"
      ]
     },
     "execution_count": 35,
     "metadata": {},
     "output_type": "execute_result"
    }
   ],
   "source": [
    "missing_boarding_pass(passes_input)"
   ]
  }
 ],
 "metadata": {
  "kernelspec": {
   "display_name": "Python 3",
   "language": "python",
   "name": "python3"
  },
  "language_info": {
   "codemirror_mode": {
    "name": "ipython",
    "version": 3
   },
   "file_extension": ".py",
   "mimetype": "text/x-python",
   "name": "python",
   "nbconvert_exporter": "python",
   "pygments_lexer": "ipython3",
   "version": "3.6.7"
  }
 },
 "nbformat": 4,
 "nbformat_minor": 2
}
