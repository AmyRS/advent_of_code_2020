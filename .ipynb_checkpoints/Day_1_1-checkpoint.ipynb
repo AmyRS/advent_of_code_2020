{
 "cells": [
  {
   "cell_type": "markdown",
   "metadata": {},
   "source": [
    "Overview\n",
    "* Pull in file with entries.\n",
    "* Test to find the two values that sum to 2020. \n",
    "    a + b = 2020\n",
    "* result = a*b "
   ]
  },
  {
   "cell_type": "code",
   "execution_count": 1,
   "metadata": {},
   "outputs": [],
   "source": [
    "import csv\n",
    "import pandas as pd\n",
    "import numpy as np\n",
    "from itertools import combinations"
   ]
  },
  {
   "cell_type": "markdown",
   "metadata": {},
   "source": [
    "#### Test"
   ]
  },
  {
   "cell_type": "code",
   "execution_count": 2,
   "metadata": {},
   "outputs": [],
   "source": [
    "test = [1721, 979, 366, 299, 675, 1456]"
   ]
  },
  {
   "cell_type": "code",
   "execution_count": 3,
   "metadata": {},
   "outputs": [],
   "source": [
    "def get_values(given_list):\n",
    "    return [(i, j) for i, j in combinations(given_list, 2) if i + j == 2020]"
   ]
  },
  {
   "cell_type": "code",
   "execution_count": 6,
   "metadata": {},
   "outputs": [],
   "source": [
    "values = get_values(test)"
   ]
  },
  {
   "cell_type": "code",
   "execution_count": 16,
   "metadata": {},
   "outputs": [
    {
     "data": {
      "text/plain": [
       "514579"
      ]
     },
     "execution_count": 16,
     "metadata": {},
     "output_type": "execute_result"
    }
   ],
   "source": [
    "np.prod(values)"
   ]
  },
  {
   "cell_type": "markdown",
   "metadata": {},
   "source": [
    "#### Actual"
   ]
  },
  {
   "cell_type": "code",
   "execution_count": 38,
   "metadata": {},
   "outputs": [],
   "source": [
    "# pi = puzzle input\n",
    "pi = pd.read_csv('day_1_1_input.csv')"
   ]
  },
  {
   "cell_type": "code",
   "execution_count": 39,
   "metadata": {
    "scrolled": true
   },
   "outputs": [
    {
     "data": {
      "text/plain": [
       "[[1602],\n",
       " [1592],\n",
       " [1714],\n",
       " [1403],\n",
       " [1766],\n",
       " [1654],\n",
       " [1771],\n",
       " [1957],\n",
       " [1533],\n",
       " [1661],\n",
       " [1761],\n",
       " [1711],\n",
       " [1869],\n",
       " [1541],\n",
       " [1595],\n",
       " [1819],\n",
       " [1735],\n",
       " [1894],\n",
       " [1316],\n",
       " [1777],\n",
       " [1450],\n",
       " [1526],\n",
       " [1888],\n",
       " [1968],\n",
       " [1877],\n",
       " [1972],\n",
       " [1988],\n",
       " [1655],\n",
       " [1369],\n",
       " [1636],\n",
       " [1453],\n",
       " [1969],\n",
       " [1239],\n",
       " [1717],\n",
       " [1444],\n",
       " [1907],\n",
       " [1682],\n",
       " [1358],\n",
       " [1706],\n",
       " [1482],\n",
       " [1852],\n",
       " [1689],\n",
       " [1905],\n",
       " [1262],\n",
       " [1956],\n",
       " [770],\n",
       " [1507],\n",
       " [1314],\n",
       " [1890],\n",
       " [784],\n",
       " [1710],\n",
       " [1418],\n",
       " [597],\n",
       " [1417],\n",
       " [1587],\n",
       " [2003],\n",
       " [1889],\n",
       " [879],\n",
       " [1534],\n",
       " [279],\n",
       " [1302],\n",
       " [1976],\n",
       " [1936],\n",
       " [1590],\n",
       " [1939],\n",
       " [1489],\n",
       " [1966],\n",
       " [1238],\n",
       " [1481],\n",
       " [1412],\n",
       " [1675],\n",
       " [2001],\n",
       " [1543],\n",
       " [1220],\n",
       " [1352],\n",
       " [1536],\n",
       " [1879],\n",
       " [1892],\n",
       " [2006],\n",
       " [1642],\n",
       " [1321],\n",
       " [1600],\n",
       " [1908],\n",
       " [2009],\n",
       " [1784],\n",
       " [1260],\n",
       " [1881],\n",
       " [1897],\n",
       " [1933],\n",
       " [1048],\n",
       " [1851],\n",
       " [2005],\n",
       " [1626],\n",
       " [1441],\n",
       " [1945],\n",
       " [1742],\n",
       " [1734],\n",
       " [1816],\n",
       " [1919],\n",
       " [1802],\n",
       " [1460],\n",
       " [1845],\n",
       " [1914],\n",
       " [1652],\n",
       " [1943],\n",
       " [1521],\n",
       " [1830],\n",
       " [1477],\n",
       " [1866],\n",
       " [1702],\n",
       " [1629],\n",
       " [1932],\n",
       " [1671],\n",
       " [1707],\n",
       " [1577],\n",
       " [1962],\n",
       " [1518],\n",
       " [1989],\n",
       " [1502],\n",
       " [61],\n",
       " [1546],\n",
       " [1264],\n",
       " [1651],\n",
       " [2000],\n",
       " [1443],\n",
       " [1931],\n",
       " [1882],\n",
       " [1583],\n",
       " [1597],\n",
       " [1487],\n",
       " [1255],\n",
       " [1779],\n",
       " [1782],\n",
       " [1540],\n",
       " [1580],\n",
       " [1294],\n",
       " [1691],\n",
       " [1337],\n",
       " [1743],\n",
       " [1632],\n",
       " [1348],\n",
       " [2010],\n",
       " [1794],\n",
       " [1876],\n",
       " [1808],\n",
       " [1647],\n",
       " [422],\n",
       " [1994],\n",
       " [1864],\n",
       " [1996],\n",
       " [1738],\n",
       " [1998],\n",
       " [1749],\n",
       " [1789],\n",
       " [1395],\n",
       " [1997],\n",
       " [1440],\n",
       " [1676],\n",
       " [1527],\n",
       " [1523],\n",
       " [1836],\n",
       " [1366],\n",
       " [1700],\n",
       " [1826],\n",
       " [1426],\n",
       " [1709],\n",
       " [166],\n",
       " [1958],\n",
       " [1909],\n",
       " [1428],\n",
       " [1984],\n",
       " [521],\n",
       " [1760],\n",
       " [156],\n",
       " [1296],\n",
       " [1475],\n",
       " [1566],\n",
       " [1573],\n",
       " [1696],\n",
       " [1471],\n",
       " [1788],\n",
       " [1809],\n",
       " [1942],\n",
       " [1461],\n",
       " [1559],\n",
       " [1699],\n",
       " [1504],\n",
       " [1465],\n",
       " [1658],\n",
       " [1973],\n",
       " [1679],\n",
       " [1376],\n",
       " [1985],\n",
       " [1503],\n",
       " [1517],\n",
       " [1825],\n",
       " [1847],\n",
       " [1528],\n",
       " [1246]]"
      ]
     },
     "execution_count": 39,
     "metadata": {},
     "output_type": "execute_result"
    }
   ],
   "source": [
    "pi = pi.values\n",
    "pi.tolist()"
   ]
  },
  {
   "cell_type": "code",
   "execution_count": 40,
   "metadata": {},
   "outputs": [],
   "source": [
    "def get_values(given_list):\n",
    "    return [(i, j) for i, j in combinations(given_list, 2) if i + j == 2020]"
   ]
  },
  {
   "cell_type": "code",
   "execution_count": 41,
   "metadata": {},
   "outputs": [
    {
     "data": {
      "text/plain": [
       "290784"
      ]
     },
     "execution_count": 41,
     "metadata": {},
     "output_type": "execute_result"
    }
   ],
   "source": [
    "np.prod(get_values(pi))"
   ]
  },
  {
   "cell_type": "code",
   "execution_count": null,
   "metadata": {},
   "outputs": [],
   "source": []
  }
 ],
 "metadata": {
  "kernelspec": {
   "display_name": "Python 3",
   "language": "python",
   "name": "python3"
  },
  "language_info": {
   "codemirror_mode": {
    "name": "ipython",
    "version": 3
   },
   "file_extension": ".py",
   "mimetype": "text/x-python",
   "name": "python",
   "nbconvert_exporter": "python",
   "pygments_lexer": "ipython3",
   "version": "3.6.7"
  }
 },
 "nbformat": 4,
 "nbformat_minor": 2
}
