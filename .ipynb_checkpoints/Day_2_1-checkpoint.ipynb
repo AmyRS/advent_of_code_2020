{
 "cells": [
  {
   "cell_type": "markdown",
   "metadata": {},
   "source": [
    "Overview\n",
    "* Pull in puzzle input\n",
    "* Test to find the passwords that meet provided rule"
   ]
  },
  {
   "cell_type": "code",
   "execution_count": 1,
   "metadata": {},
   "outputs": [],
   "source": [
    "import csv\n",
    "import pandas as pd\n",
    "import numpy as np\n",
    "from itertools import combinations\n",
    "import doctest\n",
    "from collections import Counter\n",
    "import re"
   ]
  },
  {
   "cell_type": "markdown",
   "metadata": {},
   "source": [
    "#### Test"
   ]
  },
  {
   "cell_type": "code",
   "execution_count": 2,
   "metadata": {},
   "outputs": [],
   "source": [
    "test_input = [\"1-3 a: abcde\", \"1-3 b: cdefg\",\"2-9 c: ccccccccc\"]"
   ]
  },
  {
   "cell_type": "code",
   "execution_count": 6,
   "metadata": {},
   "outputs": [],
   "source": [
    "def valid_passwords(given_list):\n",
    "    '''\n",
    "    This is a test:\n",
    "    >>> valid_passwords(test_input)\n",
    "    2\n",
    "    '''\n",
    "    good_passwords = []\n",
    "    bad_passwords = []\n",
    "\n",
    "    for item in given_list:\n",
    "        # min_rule = item[:1]\n",
    "        # max_rule = item[2:3]\n",
    "        # letter_rule = item[4:5]\n",
    "        # password = item[7:] \n",
    "        min_rule = ((re.findall(\"(\\d*)(?=-)\", item))[0])\n",
    "        max_rule = ((re.findall(\"(?:-)(\\d*)\", item))[0])\n",
    "        letter_rule = ((re.findall(\"[a-z](?=:)\", item))[0])\n",
    "        password = ((re.findall(\"(?<=:\\s)\\S*\", item))[0])\n",
    "        if password.count(letter_rule) in range(int(min_rule), int(max_rule)+1):\n",
    "            good_passwords.append(password)\n",
    "        else:\n",
    "            bad_passwords.append(password)\n",
    "    return(len(good_passwords))"
   ]
  },
  {
   "cell_type": "code",
   "execution_count": 7,
   "metadata": {},
   "outputs": [
    {
     "data": {
      "text/plain": [
       "2"
      ]
     },
     "execution_count": 7,
     "metadata": {},
     "output_type": "execute_result"
    }
   ],
   "source": [
    "valid_passwords(test_input)"
   ]
  },
  {
   "cell_type": "code",
   "execution_count": 8,
   "metadata": {},
   "outputs": [
    {
     "name": "stdout",
     "output_type": "stream",
     "text": [
      "Trying:\n",
      "    valid_passwords(test_input)\n",
      "Expecting:\n",
      "    2\n",
      "ok\n",
      "1 items had no tests:\n",
      "    __main__\n",
      "1 items passed all tests:\n",
      "   1 tests in __main__.valid_passwords\n",
      "1 tests in 2 items.\n",
      "1 passed and 0 failed.\n",
      "Test passed.\n"
     ]
    },
    {
     "data": {
      "text/plain": [
       "TestResults(failed=0, attempted=1)"
      ]
     },
     "execution_count": 8,
     "metadata": {},
     "output_type": "execute_result"
    }
   ],
   "source": [
    "doctest.testmod(verbose=True)"
   ]
  },
  {
   "cell_type": "markdown",
   "metadata": {},
   "source": [
    "#### Actual"
   ]
  },
  {
   "cell_type": "code",
   "execution_count": 9,
   "metadata": {},
   "outputs": [],
   "source": [
    "# pi = puzzle input\n",
    "password_input = pd.read_csv('day_2_1_input.csv')"
   ]
  },
  {
   "cell_type": "code",
   "execution_count": 10,
   "metadata": {
    "scrolled": true
   },
   "outputs": [],
   "source": [
    "passwords = password_input.values.tolist()"
   ]
  },
  {
   "cell_type": "code",
   "execution_count": 11,
   "metadata": {},
   "outputs": [],
   "source": [
    "password_list = [item for elem in passwords for item in elem]"
   ]
  },
  {
   "cell_type": "code",
   "execution_count": 12,
   "metadata": {},
   "outputs": [
    {
     "data": {
      "text/plain": [
       "569"
      ]
     },
     "execution_count": 12,
     "metadata": {},
     "output_type": "execute_result"
    }
   ],
   "source": [
    "valid_passwords(password_list)"
   ]
  },
  {
   "cell_type": "code",
   "execution_count": null,
   "metadata": {},
   "outputs": [],
   "source": []
  }
 ],
 "metadata": {
  "kernelspec": {
   "display_name": "Python 3",
   "language": "python",
   "name": "python3"
  },
  "language_info": {
   "codemirror_mode": {
    "name": "ipython",
    "version": 3
   },
   "file_extension": ".py",
   "mimetype": "text/x-python",
   "name": "python",
   "nbconvert_exporter": "python",
   "pygments_lexer": "ipython3",
   "version": "3.6.7"
  }
 },
 "nbformat": 4,
 "nbformat_minor": 2
}
