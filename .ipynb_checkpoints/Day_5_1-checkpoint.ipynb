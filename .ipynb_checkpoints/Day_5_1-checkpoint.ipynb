{
 "cells": [
  {
   "cell_type": "markdown",
   "metadata": {},
   "source": [
    "Overview\n",
    "* Pull in puzzle input\n",
    "* Find the seat with highest ID on the boarding pass\n",
    "* Seat ID = row * 8 + column"
   ]
  },
  {
   "cell_type": "code",
   "execution_count": 54,
   "metadata": {},
   "outputs": [],
   "source": [
    "import csv\n",
    "import pandas as pd\n",
    "import numpy as np\n",
    "import doctest"
   ]
  },
  {
   "cell_type": "markdown",
   "metadata": {},
   "source": [
    "#### Test"
   ]
  },
  {
   "cell_type": "code",
   "execution_count": 55,
   "metadata": {},
   "outputs": [],
   "source": [
    "test_input = []\n",
    "with open(r\"day_5_1_test.txt\", \"r\") as file:\n",
    "    for line in file:\n",
    "        line = line.replace(\"\\n\", \"\")\n",
    "        test_input.append(line)"
   ]
  },
  {
   "cell_type": "code",
   "execution_count": 56,
   "metadata": {},
   "outputs": [
    {
     "data": {
      "text/plain": [
       "['BFFFBBFRRR', 'FFFBBBFRRR', 'BBFFBBFRLL']"
      ]
     },
     "execution_count": 56,
     "metadata": {},
     "output_type": "execute_result"
    }
   ],
   "source": [
    "test_input"
   ]
  },
  {
   "cell_type": "code",
   "execution_count": 232,
   "metadata": {},
   "outputs": [],
   "source": [
    "def highest_boarding_pass(given_list):\n",
    "    '''\n",
    "    This is a test:\n",
    "    >>> highest_boarding_pass(test_input)\n",
    "    820\n",
    "    '''\n",
    "    # sort list\n",
    "    \n",
    "    # take top ones that match first seven\n",
    "    \n",
    "    # reverse sort\n",
    "    \n",
    "    # calc ID for first number\n",
    "    given_list.sort()\n",
    "    given_list\n",
    "\n",
    "    alpha = given_list[0][0:7]\n",
    "    print (alpha)\n",
    "    matches = []\n",
    "    for item in given_list:\n",
    "        if item[0:7] == alpha:\n",
    "            matches.append(item)\n",
    "\n",
    "    matches.sort()\n",
    "    print(matches)\n",
    "    boarding = matches[len(matches)-1]\n",
    "    \n",
    "    rows = list(range(0, 128))\n",
    "\n",
    "    for x in boarding[:6]:\n",
    "        if x == 'B':\n",
    "            rows = rows[len(rows)//2:]\n",
    "        else:\n",
    "            rows = rows[:len(rows)//2]        \n",
    "\n",
    "    if boarding[6:7] == \"B\":\n",
    "        row = rows[1]\n",
    "    else:\n",
    "        row = rows[0]\n",
    "    print(row)\n",
    "\n",
    "    seat_col = boarding[7:]\n",
    "    columns = list(range(0, 8))\n",
    "\n",
    "    for x in seat_col:\n",
    "        if x == 'R':\n",
    "            columns = columns[len(columns)//2:]\n",
    "        else:\n",
    "            columns = columns[:len(columns)//2]   \n",
    "    col = columns[0]\n",
    "    print(col)\n",
    "    answer = row * 8 + col\n",
    "    return answer"
   ]
  },
  {
   "cell_type": "code",
   "execution_count": 233,
   "metadata": {},
   "outputs": [
    {
     "name": "stdout",
     "output_type": "stream",
     "text": [
      "BBFFBBF\n",
      "['BBFFBBFRLL']\n",
      "102\n",
      "4\n"
     ]
    },
    {
     "data": {
      "text/plain": [
       "820"
      ]
     },
     "execution_count": 233,
     "metadata": {},
     "output_type": "execute_result"
    }
   ],
   "source": [
    "highest_boarding_pass(test_input)"
   ]
  },
  {
   "cell_type": "code",
   "execution_count": 234,
   "metadata": {},
   "outputs": [
    {
     "name": "stdout",
     "output_type": "stream",
     "text": [
      "Trying:\n",
      "    highest_boarding_pass(test_input)\n",
      "Expecting:\n",
      "    820\n",
      "**********************************************************************\n",
      "File \"__main__\", line 4, in __main__.highest_boarding_pass\n",
      "Failed example:\n",
      "    highest_boarding_pass(test_input)\n",
      "Expected:\n",
      "    820\n",
      "Got:\n",
      "    BBFFBBF\n",
      "    ['BBFFBBFRLL']\n",
      "    102\n",
      "    4\n",
      "    820\n",
      "1 items had no tests:\n",
      "    __main__\n",
      "**********************************************************************\n",
      "1 items had failures:\n",
      "   1 of   1 in __main__.highest_boarding_pass\n",
      "1 tests in 2 items.\n",
      "0 passed and 1 failed.\n",
      "***Test Failed*** 1 failures.\n"
     ]
    },
    {
     "data": {
      "text/plain": [
       "TestResults(failed=1, attempted=1)"
      ]
     },
     "execution_count": 234,
     "metadata": {},
     "output_type": "execute_result"
    }
   ],
   "source": [
    "doctest.testmod(verbose=True)"
   ]
  },
  {
   "cell_type": "markdown",
   "metadata": {},
   "source": [
    "#### Actual"
   ]
  },
  {
   "cell_type": "code",
   "execution_count": 235,
   "metadata": {},
   "outputs": [],
   "source": [
    "# pi = puzzle input\n",
    "passes_input = []\n",
    "with open(r\"day_5_1_input.txt\", \"r\") as file:\n",
    "    for line in file:\n",
    "        line = line.replace(\"\\n\", \"\")\n",
    "        passes_input.append(line)"
   ]
  },
  {
   "cell_type": "code",
   "execution_count": 236,
   "metadata": {},
   "outputs": [
    {
     "name": "stdout",
     "output_type": "stream",
     "text": [
      "BBFFBBF\n",
      "['BBFFBBFLLL', 'BBFFBBFLLR', 'BBFFBBFLRL', 'BBFFBBFLRR', 'BBFFBBFRLL', 'BBFFBBFRLR', 'BBFFBBFRRL']\n",
      "102\n",
      "6\n"
     ]
    },
    {
     "data": {
      "text/plain": [
       "822"
      ]
     },
     "execution_count": 236,
     "metadata": {},
     "output_type": "execute_result"
    }
   ],
   "source": [
    "highest_boarding_pass(passes_input)"
   ]
  }
 ],
 "metadata": {
  "kernelspec": {
   "display_name": "Python 3",
   "language": "python",
   "name": "python3"
  },
  "language_info": {
   "codemirror_mode": {
    "name": "ipython",
    "version": 3
   },
   "file_extension": ".py",
   "mimetype": "text/x-python",
   "name": "python",
   "nbconvert_exporter": "python",
   "pygments_lexer": "ipython3",
   "version": "3.6.7"
  }
 },
 "nbformat": 4,
 "nbformat_minor": 2
}
