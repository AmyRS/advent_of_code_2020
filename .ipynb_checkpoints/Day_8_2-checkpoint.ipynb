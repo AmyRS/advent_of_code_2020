{
 "cells": [
  {
   "cell_type": "code",
   "execution_count": null,
   "metadata": {},
   "outputs": [],
   "source": [
    "import doctest"
   ]
  },
  {
   "cell_type": "markdown",
   "metadata": {},
   "source": [
    "#### Test"
   ]
  },
  {
   "cell_type": "code",
   "execution_count": null,
   "metadata": {},
   "outputs": [],
   "source": [
    "test_input = []\n",
    "with open(r\"day_8_test.txt\", \"r\") as file:\n",
    "    for line in file:\n",
    "        test_input.append(line.split())"
   ]
  },
  {
   "cell_type": "code",
   "execution_count": 11,
   "metadata": {},
   "outputs": [],
   "source": [
    "def game_play(given_list, start, acc, used_k, inst):\n",
    "    # start list of used key values\n",
    "    used_k.append(start)\n",
    "    # trip when you hit duplicate key\n",
    "    if len(used_k) == len(set(used_k)):\n",
    "        x = 0\n",
    "    else:\n",
    "        x = 1\n",
    "    # trip if you stop infinite loop from ever happening\n",
    "    if start >= len(given_list):\n",
    "        #acc = acc + int(inst[start][1])\n",
    "        print(\"winner acc:\", acc)\n",
    "        x = 1\n",
    "        \n",
    "    # key for trip\n",
    "    if(x == 0):\n",
    "        if (inst[start][0]) == 'nop':\n",
    "            start = start + 1\n",
    "        elif (inst[start][0]) == 'acc':\n",
    "            acc = acc + int(inst[start][1])\n",
    "            start = start + 1\n",
    "        elif (inst[start][0]) == 'jmp':\n",
    "            start = start + int(inst[start][1])\n",
    "        return game_play(given_list, start, acc, used_k, inst)\n",
    "    else:\n",
    "        return acc"
   ]
  },
  {
   "cell_type": "markdown",
   "metadata": {},
   "source": [
    "Day 1 Test"
   ]
  },
  {
   "cell_type": "code",
   "execution_count": null,
   "metadata": {},
   "outputs": [],
   "source": [
    "inst = {}\n",
    "key = 1\n",
    "for instruction in test_input:\n",
    "    inst[key] = instruction\n",
    "    key += 1\n",
    "\n",
    "used_k = []\n",
    "game_play(test_input, 1, 0, used_k, inst)"
   ]
  },
  {
   "cell_type": "markdown",
   "metadata": {},
   "source": [
    "Swap out nop_keys for jmp"
   ]
  },
  {
   "cell_type": "code",
   "execution_count": 2,
   "metadata": {},
   "outputs": [],
   "source": [
    "test_input = []\n",
    "with open(r\"day_8_test.txt\", \"r\") as file:\n",
    "    for line in file:\n",
    "        test_input.append(line.split())"
   ]
  },
  {
   "cell_type": "code",
   "execution_count": 3,
   "metadata": {},
   "outputs": [],
   "source": [
    "# create dictionary of input\n",
    "inst = {}\n",
    "key = 1\n",
    "for instruction in test_input:\n",
    "    inst[key] = instruction\n",
    "    key += 1"
   ]
  },
  {
   "cell_type": "code",
   "execution_count": 4,
   "metadata": {},
   "outputs": [
    {
     "data": {
      "text/plain": [
       "[3, 5, 8]"
      ]
     },
     "execution_count": 4,
     "metadata": {},
     "output_type": "execute_result"
    }
   ],
   "source": [
    "# Change an instruction here than run game_play and see if I get a non-infinte loop\n",
    "jmp_key = []\n",
    "for key, value in inst.items():\n",
    "    if value[0] == 'jmp':\n",
    "        jmp_key.append(key)\n",
    "jmp_key"
   ]
  },
  {
   "cell_type": "code",
   "execution_count": null,
   "metadata": {},
   "outputs": [],
   "source": [
    "# works when swap out key 8\n",
    "new_inst2 = inst.copy()\n",
    "for x in jmp_key:\n",
    "    new_inst2[x][0] = \"nop\"\n",
    "    used_k = []\n",
    "    game_play(test_input, 1, 0, used_k, new_inst2)  \n",
    "    new_inst2[x][0] = \"jmp\""
   ]
  },
  {
   "cell_type": "code",
   "execution_count": null,
   "metadata": {},
   "outputs": [],
   "source": [
    "# Change an instruction here than run game_play and see if I get a non-infinte loop\n",
    "nop_key = []\n",
    "for key, value in inst.items():\n",
    "    if value[0] == 'nop':\n",
    "        nop_key.append(key)\n",
    "\n",
    "used_k = []\n",
    "# swap out each nop_key\n",
    "new_inst3 = inst.copy()\n",
    "for x in nop_key:\n",
    "    new_inst3[x][0] = \"jmp\"\n",
    "    used_k = []\n",
    "    game_play(test_input, 1, 0, used_k, new_inst3)\n",
    "    new_inst3[x][0] = \"nop\"\n",
    "  "
   ]
  },
  {
   "cell_type": "markdown",
   "metadata": {},
   "source": [
    "#### Actual"
   ]
  },
  {
   "cell_type": "code",
   "execution_count": 6,
   "metadata": {
    "scrolled": true
   },
   "outputs": [],
   "source": [
    "answers = []\n",
    "with open(r\"day_8_input.txt\", \"r\") as file:\n",
    "    for line in file:\n",
    "        answers.append(line.split())"
   ]
  },
  {
   "cell_type": "code",
   "execution_count": 7,
   "metadata": {},
   "outputs": [],
   "source": [
    "# create dictionary of input\n",
    "inst = {}\n",
    "key = 1\n",
    "for instruction in answers:\n",
    "    inst[key] = instruction\n",
    "    key += 1"
   ]
  },
  {
   "cell_type": "code",
   "execution_count": 9,
   "metadata": {},
   "outputs": [],
   "source": [
    "# Change an instruction here than run game_play and see if I get a non-infinte loop\n",
    "jmp_key = []\n",
    "for key, value in inst.items():\n",
    "    if value[0] == 'jmp':\n",
    "        jmp_key.append(key)"
   ]
  },
  {
   "cell_type": "code",
   "execution_count": 12,
   "metadata": {},
   "outputs": [
    {
     "name": "stdout",
     "output_type": "stream",
     "text": [
      "winner acc: 1016\n"
     ]
    }
   ],
   "source": [
    "new_inst2 = inst.copy()\n",
    "for x in jmp_key:\n",
    "    new_inst2[x][0] = \"nop\"\n",
    "    used_k = []\n",
    "    #print(x) #328 \n",
    "    game_play(answers, 1, 0, used_k, new_inst2)  \n",
    "    new_inst2[x][0] = \"jmp\""
   ]
  },
  {
   "cell_type": "code",
   "execution_count": null,
   "metadata": {},
   "outputs": [],
   "source": [
    "# # Change an instruction here than run game_play and see if I get a non-infinte loop\n",
    "# nop_key = []\n",
    "# for key, value in inst.items():\n",
    "#     if value[0] == 'nop':\n",
    "#         nop_key.append(key)\n",
    "\n",
    "# used_k = []\n",
    "# # swap out each nop_key\n",
    "# new_inst3 = inst.copy()\n",
    "# for x in nop_key:\n",
    "#     new_inst3[x][0] = \"jmp\"\n",
    "#     used_k = []\n",
    "#     game_play(answers, 1, 0, used_k, new_inst3)\n",
    "#     new_inst3[x][0] = \"nop\" "
   ]
  },
  {
   "cell_type": "markdown",
   "metadata": {},
   "source": [
    "1017 is wrong :(  too high"
   ]
  },
  {
   "cell_type": "code",
   "execution_count": null,
   "metadata": {},
   "outputs": [],
   "source": []
  }
 ],
 "metadata": {
  "kernelspec": {
   "display_name": "Python 3",
   "language": "python",
   "name": "python3"
  },
  "language_info": {
   "codemirror_mode": {
    "name": "ipython",
    "version": 3
   },
   "file_extension": ".py",
   "mimetype": "text/x-python",
   "name": "python",
   "nbconvert_exporter": "python",
   "pygments_lexer": "ipython3",
   "version": "3.6.7"
  }
 },
 "nbformat": 4,
 "nbformat_minor": 2
}
