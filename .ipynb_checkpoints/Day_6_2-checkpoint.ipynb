{
 "cells": [
  {
   "cell_type": "markdown",
   "metadata": {},
   "source": [
    "Overview\n",
    "* Pull in puzzle input\n",
    "* Sum Answers\n",
    "* 26 Questions, track those with yes answers by group"
   ]
  },
  {
   "cell_type": "code",
   "execution_count": 1,
   "metadata": {},
   "outputs": [],
   "source": [
    "import doctest"
   ]
  },
  {
   "cell_type": "markdown",
   "metadata": {},
   "source": [
    "#### Test"
   ]
  },
  {
   "cell_type": "code",
   "execution_count": 105,
   "metadata": {},
   "outputs": [
    {
     "name": "stdout",
     "output_type": "stream",
     "text": [
      "b\n"
     ]
    },
    {
     "data": {
      "text/plain": [
       "[['abc'], ['a', 'b', 'c'], ['ab', 'ac'], ['a', 'a', 'a', 'a'], ['b']]"
      ]
     },
     "execution_count": 105,
     "metadata": {},
     "output_type": "execute_result"
    }
   ],
   "source": [
    "test_input = []\n",
    "group = []\n",
    "with open(r\"day_6_1_test.txt\", \"r\") as file:\n",
    "    for line in file:\n",
    "        line = line.replace(\"\\n\", \"\")\n",
    "        if line == '':\n",
    "            test_input.append(group)\n",
    "            group=[]\n",
    "        else:\n",
    "            group.append(line)\n",
    "    test_input.append(line.split())\n",
    "test_input"
   ]
  },
  {
   "cell_type": "code",
   "execution_count": 165,
   "metadata": {},
   "outputs": [],
   "source": [
    "def sum_counts(given_list):\n",
    "    '''\n",
    "    This is a test:\n",
    "    >>> sum_counts(test_input)\n",
    "    6\n",
    "    '''\n",
    "    count = 0\n",
    "    # list a-z\n",
    "    questions = []\n",
    "    alpha = 'a'\n",
    "    for i in range(0, 26): \n",
    "        questions.append(alpha) \n",
    "        alpha = chr(ord(alpha) + 1) \n",
    "        \n",
    "    for group in given_list:\n",
    "        key = (len(group))\n",
    "        group_ans = ''\n",
    "        for letter in group:\n",
    "            group_ans = group_ans + letter\n",
    "            \n",
    "        for letter in questions: # a - z\n",
    "            if group_ans.count(letter) == key:\n",
    "                count = count + 1\n",
    "\n",
    "    return count"
   ]
  },
  {
   "cell_type": "code",
   "execution_count": 166,
   "metadata": {},
   "outputs": [
    {
     "data": {
      "text/plain": [
       "6"
      ]
     },
     "execution_count": 166,
     "metadata": {},
     "output_type": "execute_result"
    }
   ],
   "source": [
    "sum_counts(test_input)"
   ]
  },
  {
   "cell_type": "code",
   "execution_count": 167,
   "metadata": {},
   "outputs": [
    {
     "name": "stdout",
     "output_type": "stream",
     "text": [
      "Trying:\n",
      "    sum_counts(test_input)\n",
      "Expecting:\n",
      "    6\n",
      "ok\n",
      "1 items had no tests:\n",
      "    __main__\n",
      "1 items passed all tests:\n",
      "   1 tests in __main__.sum_counts\n",
      "1 tests in 2 items.\n",
      "1 passed and 0 failed.\n",
      "Test passed.\n"
     ]
    },
    {
     "data": {
      "text/plain": [
       "TestResults(failed=0, attempted=1)"
      ]
     },
     "execution_count": 167,
     "metadata": {},
     "output_type": "execute_result"
    }
   ],
   "source": [
    "doctest.testmod(verbose=True)"
   ]
  },
  {
   "cell_type": "markdown",
   "metadata": {},
   "source": [
    "#### Actual"
   ]
  },
  {
   "cell_type": "code",
   "execution_count": 170,
   "metadata": {},
   "outputs": [],
   "source": [
    "answers = []\n",
    "group = []\n",
    "with open(r\"day_6_1_input.txt\", \"r\") as file:\n",
    "    for line in file:\n",
    "        line = line.replace(\"\\n\", \"\")\n",
    "        if line == '':\n",
    "            answers.append(group)\n",
    "            group=[]\n",
    "        else:\n",
    "            group.append(line)\n",
    "    last_group = group\n",
    "    answers.append(last_group)"
   ]
  },
  {
   "cell_type": "code",
   "execution_count": 171,
   "metadata": {},
   "outputs": [
    {
     "data": {
      "text/plain": [
       "3178"
      ]
     },
     "execution_count": 171,
     "metadata": {},
     "output_type": "execute_result"
    }
   ],
   "source": [
    "sum_counts(answers)"
   ]
  }
 ],
 "metadata": {
  "kernelspec": {
   "display_name": "Python 3",
   "language": "python",
   "name": "python3"
  },
  "language_info": {
   "codemirror_mode": {
    "name": "ipython",
    "version": 3
   },
   "file_extension": ".py",
   "mimetype": "text/x-python",
   "name": "python",
   "nbconvert_exporter": "python",
   "pygments_lexer": "ipython3",
   "version": "3.6.7"
  }
 },
 "nbformat": 4,
 "nbformat_minor": 2
}
