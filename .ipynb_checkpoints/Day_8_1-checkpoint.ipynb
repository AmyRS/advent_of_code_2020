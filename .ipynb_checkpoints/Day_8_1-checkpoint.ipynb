{
 "cells": [
  {
   "cell_type": "code",
   "execution_count": 1,
   "metadata": {},
   "outputs": [],
   "source": [
    "import doctest"
   ]
  },
  {
   "cell_type": "markdown",
   "metadata": {},
   "source": [
    "#### Test"
   ]
  },
  {
   "cell_type": "code",
   "execution_count": 10,
   "metadata": {},
   "outputs": [
    {
     "data": {
      "text/plain": [
       "[['nop', '+0'],\n",
       " ['acc', '+1'],\n",
       " ['jmp', '+4'],\n",
       " ['acc', '+3'],\n",
       " ['jmp', '-3'],\n",
       " ['acc', '-99'],\n",
       " ['acc', '+1'],\n",
       " ['jmp', '-4'],\n",
       " ['acc', '+6']]"
      ]
     },
     "execution_count": 10,
     "metadata": {},
     "output_type": "execute_result"
    }
   ],
   "source": [
    "test_input = []\n",
    "with open(r\"day_8_test.txt\", \"r\") as file:\n",
    "    for line in file:\n",
    "        test_input.append(line.split())\n",
    "test_input"
   ]
  },
  {
   "cell_type": "code",
   "execution_count": 97,
   "metadata": {},
   "outputs": [],
   "source": [
    "inst = {}\n",
    "key = 1\n",
    "for instruction in test_input:\n",
    "    inst[key] = instruction\n",
    "    key += 1\n",
    "used_k = []\n",
    "\n",
    "def game_play(given_list, start, acc, used_k):\n",
    "    '''\n",
    "    This is a test:\n",
    "    >>> game_play(test_input, 1, 0, used_k)\n",
    "    5\n",
    "    '''\n",
    "    used_k.append(start)\n",
    "    if len(used_k) == len(set(used_k)):\n",
    "        x = 0\n",
    "    else:\n",
    "        x = 1\n",
    "    \n",
    "    if(x==0):\n",
    "        if (inst[start][0]) == 'nop':\n",
    "            start = start + 1\n",
    "        elif (inst[start][0]) == 'acc':\n",
    "            acc = acc + int(inst[start][1])\n",
    "            start = start + 1\n",
    "        elif (inst[start][0]) == 'jmp':\n",
    "            start = start + int(inst[start][1])\n",
    "        return game_play(given_list, start, acc, used_k)\n",
    "    else:\n",
    "        return acc"
   ]
  },
  {
   "cell_type": "code",
   "execution_count": 98,
   "metadata": {},
   "outputs": [
    {
     "data": {
      "text/plain": [
       "5"
      ]
     },
     "execution_count": 98,
     "metadata": {},
     "output_type": "execute_result"
    }
   ],
   "source": [
    "game_play(test_input, 1, 0, used_k)"
   ]
  },
  {
   "cell_type": "code",
   "execution_count": 99,
   "metadata": {
    "scrolled": true
   },
   "outputs": [
    {
     "name": "stdout",
     "output_type": "stream",
     "text": [
      "Trying:\n",
      "    game_play(test_input, 1, 0, used_k)\n",
      "Expecting:\n",
      "    5\n",
      "**********************************************************************\n",
      "File \"__main__\", line 11, in __main__.game_play\n",
      "Failed example:\n",
      "    game_play(test_input, 1, 0, used_k)\n",
      "Expected:\n",
      "    5\n",
      "Got:\n",
      "    0\n",
      "Trying:\n",
      "    sum_counts(test_input)\n",
      "Expecting:\n",
      "    6\n",
      "**********************************************************************\n",
      "File \"__main__\", line 4, in __main__.sum_counts\n",
      "Failed example:\n",
      "    sum_counts(test_input)\n",
      "Expected:\n",
      "    6\n",
      "Got:\n",
      "    ['nop', '+0']\n",
      "    ['acc', '+1']\n",
      "    ['jmp', '+4']\n",
      "    ['acc', '+3']\n",
      "    ['jmp', '-3']\n",
      "    ['acc', '-99']\n",
      "    ['acc', '+1']\n",
      "    ['jmp', '-4']\n",
      "    ['acc', '+6']\n",
      "1 items had no tests:\n",
      "    __main__\n",
      "**********************************************************************\n",
      "2 items had failures:\n",
      "   1 of   1 in __main__.game_play\n",
      "   1 of   1 in __main__.sum_counts\n",
      "2 tests in 3 items.\n",
      "0 passed and 2 failed.\n",
      "***Test Failed*** 2 failures.\n"
     ]
    },
    {
     "data": {
      "text/plain": [
       "TestResults(failed=2, attempted=2)"
      ]
     },
     "execution_count": 99,
     "metadata": {},
     "output_type": "execute_result"
    }
   ],
   "source": [
    "doctest.testmod(verbose=True)"
   ]
  },
  {
   "cell_type": "markdown",
   "metadata": {},
   "source": [
    "#### Actual"
   ]
  },
  {
   "cell_type": "code",
   "execution_count": 105,
   "metadata": {
    "scrolled": true
   },
   "outputs": [],
   "source": [
    "answers = []\n",
    "with open(r\"day_8_input.txt\", \"r\") as file:\n",
    "    for line in file:\n",
    "        answers.append(line.split())"
   ]
  },
  {
   "cell_type": "code",
   "execution_count": 108,
   "metadata": {},
   "outputs": [],
   "source": [
    "inst = {}\n",
    "key = 1\n",
    "for instruction in answers:\n",
    "    inst[key] = instruction\n",
    "    key += 1\n",
    "used_k = []"
   ]
  },
  {
   "cell_type": "code",
   "execution_count": 109,
   "metadata": {},
   "outputs": [
    {
     "data": {
      "text/plain": [
       "1521"
      ]
     },
     "execution_count": 109,
     "metadata": {},
     "output_type": "execute_result"
    }
   ],
   "source": [
    "game_play(answers, 1, 0, used_k)"
   ]
  },
  {
   "cell_type": "code",
   "execution_count": null,
   "metadata": {},
   "outputs": [],
   "source": []
  }
 ],
 "metadata": {
  "kernelspec": {
   "display_name": "Python 3",
   "language": "python",
   "name": "python3"
  },
  "language_info": {
   "codemirror_mode": {
    "name": "ipython",
    "version": 3
   },
   "file_extension": ".py",
   "mimetype": "text/x-python",
   "name": "python",
   "nbconvert_exporter": "python",
   "pygments_lexer": "ipython3",
   "version": "3.6.7"
  }
 },
 "nbformat": 4,
 "nbformat_minor": 2
}
