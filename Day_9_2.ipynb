{
 "cells": [
  {
   "cell_type": "code",
   "execution_count": 3,
   "metadata": {},
   "outputs": [],
   "source": [
    "import doctest"
   ]
  },
  {
   "cell_type": "markdown",
   "metadata": {},
   "source": [
    "#### Test"
   ]
  },
  {
   "cell_type": "code",
   "execution_count": 1,
   "metadata": {},
   "outputs": [],
   "source": [
    "test_input = []\n",
    "data =  open(r\"day_9_test.txt\", \"r\").read().split('\\n')\n",
    "for line in data:\n",
    "    test_input.append(int(line))"
   ]
  },
  {
   "cell_type": "code",
   "execution_count": 4,
   "metadata": {},
   "outputs": [],
   "source": [
    "def first_num(given_list, preamble_count, start):\n",
    "    '''\n",
    "    This is a test:\n",
    "    >>> first_num(test_input)\n",
    "    127\n",
    "    '''\n",
    "    preamble = given_list[start: preamble_count] #0, 5\n",
    "    poss_sums = [i + j for i in preamble for j in preamble] \n",
    "    \n",
    "    # always grab 5 but go to the next one\n",
    "    next_num = given_list[preamble_count:preamble_count + 1] # 5 - 6\n",
    "    \n",
    "    if next_num[0] in poss_sums:\n",
    "        # need to go to the next preamble count slice\n",
    "        return (first_num(given_list, preamble_count + 1, start + 1))\n",
    "    else:\n",
    "        return next_num  "
   ]
  },
  {
   "cell_type": "code",
   "execution_count": 48,
   "metadata": {},
   "outputs": [],
   "source": [
    "def con_nums(given_list, test_num, start): #127\n",
    "    '''\n",
    "    This is a test:\n",
    "    >>> first_num(test_input)\n",
    "    127\n",
    "    '''\n",
    "    list_len = len(given_list)\n",
    "    total = 0\n",
    "    group_num = []\n",
    "    for x in range(start, list_len):\n",
    "        total = total + given_list[x]\n",
    "        group_num.append(given_list[x])\n",
    "        # Only do test below if there are at least 2 numbers in group_num\n",
    "        if len(group_num) >= 2:\n",
    "            if total == test_num:          \n",
    "                group_num.sort()\n",
    "                return ((group_num[len(group_num)-1])+(group_num[0]))\n",
    "            elif total > test_num:\n",
    "                return con_nums(given_list, test_num, start + 1)\n"
   ]
  },
  {
   "cell_type": "code",
   "execution_count": 49,
   "metadata": {},
   "outputs": [],
   "source": [
    "test_2 = (first_num(test_input, 5, 0))[0]"
   ]
  },
  {
   "cell_type": "code",
   "execution_count": 50,
   "metadata": {},
   "outputs": [
    {
     "data": {
      "text/plain": [
       "62"
      ]
     },
     "execution_count": 50,
     "metadata": {},
     "output_type": "execute_result"
    }
   ],
   "source": [
    "con_nums(test_input, test_2, 0)"
   ]
  },
  {
   "cell_type": "markdown",
   "metadata": {},
   "source": [
    "#### Actual"
   ]
  },
  {
   "cell_type": "code",
   "execution_count": 51,
   "metadata": {
    "scrolled": true
   },
   "outputs": [],
   "source": [
    "answers = []\n",
    "data =  open(r\"day_9_input.txt\", \"r\").read().split('\\n')\n",
    "for line in data:\n",
    "    if line:\n",
    "        answers.append(int(line))"
   ]
  },
  {
   "cell_type": "code",
   "execution_count": 55,
   "metadata": {},
   "outputs": [],
   "source": [
    "data_2 = (first_num(answers, 25, 0))[0]"
   ]
  },
  {
   "cell_type": "code",
   "execution_count": 57,
   "metadata": {},
   "outputs": [
    {
     "data": {
      "text/plain": [
       "70672245"
      ]
     },
     "execution_count": 57,
     "metadata": {},
     "output_type": "execute_result"
    }
   ],
   "source": [
    "con_nums(answers, data_2, 0)"
   ]
  },
  {
   "cell_type": "code",
   "execution_count": null,
   "metadata": {},
   "outputs": [],
   "source": []
  }
 ],
 "metadata": {
  "kernelspec": {
   "display_name": "Python 3",
   "language": "python",
   "name": "python3"
  },
  "language_info": {
   "codemirror_mode": {
    "name": "ipython",
    "version": 3
   },
   "file_extension": ".py",
   "mimetype": "text/x-python",
   "name": "python",
   "nbconvert_exporter": "python",
   "pygments_lexer": "ipython3",
   "version": "3.6.7"
  }
 },
 "nbformat": 4,
 "nbformat_minor": 2
}
